{
 "cells": [
  {
   "cell_type": "code",
   "execution_count": 1,
   "metadata": {},
   "outputs": [],
   "source": [
    "import os\n",
    "from langchain.llms import GooglePalm\n",
    "from dotenv import load_dotenv\n",
    "from langchain.utilities import (SQLDatabase)"
   ]
  },
  {
   "cell_type": "code",
   "execution_count": 2,
   "metadata": {},
   "outputs": [
    {
     "data": {
      "text/plain": [
       "'c:\\\\Users\\\\Asus\\\\Machine_learning\\\\Practice\\\\Co2_emission\\\\notebook'"
      ]
     },
     "execution_count": 2,
     "metadata": {},
     "output_type": "execute_result"
    }
   ],
   "source": [
    "%pwd"
   ]
  },
  {
   "cell_type": "code",
   "execution_count": 3,
   "metadata": {},
   "outputs": [],
   "source": [
    "os.chdir(\"../\")"
   ]
  },
  {
   "cell_type": "code",
   "execution_count": 4,
   "metadata": {},
   "outputs": [],
   "source": [
    "load_dotenv()\n",
    "\n",
    "palm_api_key    = os.getenv('PALM_API_KEY')\n",
    "db_user         = os.getenv('db_user')\n",
    "db_password     = os.getenv('db_password')\n",
    "db_host         = os.getenv('db_host')\n",
    "db_name         = os.getenv('db_name')"
   ]
  },
  {
   "cell_type": "code",
   "execution_count": 6,
   "metadata": {},
   "outputs": [],
   "source": [
    "db_uri = f\"mysql+pymysql://{db_user}:{db_password}@{db_host}/{db_name}\"\n",
    "db = SQLDatabase.from_uri(f\"mysql+pymysql://{db_user}:{db_password}@{db_host}/{db_name}\",sample_rows_in_table_info=3)\n",
    "llm = GooglePalm(google_api_key=palm_api_key,temperature=0.65)"
   ]
  },
  {
   "cell_type": "code",
   "execution_count": 7,
   "metadata": {},
   "outputs": [
    {
     "data": {
      "text/plain": [
       "str"
      ]
     },
     "execution_count": 7,
     "metadata": {},
     "output_type": "execute_result"
    }
   ],
   "source": [
    "type(db.table_info)"
   ]
  },
  {
   "cell_type": "code",
   "execution_count": 8,
   "metadata": {},
   "outputs": [
    {
     "name": "stderr",
     "output_type": "stream",
     "text": [
      "c:\\Users\\Asus\\anaconda3\\envs\\nlp_env\\lib\\site-packages\\langchain_community\\utilities\\sql_database.py:277: UserWarning: This method is deprecated - please use `get_usable_table_names`.\n",
      "  warnings.warn(\n"
     ]
    },
    {
     "data": {
      "text/plain": [
       "['country_emissions', 'country_table']"
      ]
     },
     "execution_count": 8,
     "metadata": {},
     "output_type": "execute_result"
    }
   ],
   "source": [
    "db.get_table_names()"
   ]
  },
  {
   "cell_type": "code",
   "execution_count": 9,
   "metadata": {},
   "outputs": [],
   "source": [
    "from langchain_experimental.sql import SQLDatabaseChain\n",
    "\n",
    "\n",
    "db_chain = SQLDatabaseChain.from_llm(llm, db, verbose=True)"
   ]
  },
  {
   "cell_type": "code",
   "execution_count": 11,
   "metadata": {},
   "outputs": [
    {
     "name": "stdout",
     "output_type": "stream",
     "text": [
      "\n",
      "\n",
      "\u001b[1m> Entering new SQLDatabaseChain chain...\u001b[0m\n",
      "which country has maximum co2 emission in the year of `2002`\n",
      "SQLQuery:\u001b[32;1m\u001b[1;3mSELECT Country_name FROM country_emissions WHERE 2002 = (SELECT MAX(2002) FROM country_emissions)\u001b[0m\n",
      "SQLResult: \u001b[33;1m\u001b[1;3m[('Africa Eastern and Southern',), ('Afghanistan',), ('Africa Western and Central',), ('Angola',), ('Albania',), ('Andorra',), ('Arab World',), ('United Arab Emirates',), ('Argentina',), ('Armenia',), ('Antigua and Barbuda',), ('Australia',), ('Austria',), ('Azerbaijan',), ('Burundi',), ('Belgium',), ('Benin',), ('Burkina Faso',), ('Bangladesh',), ('Bulgaria',), ('Bahrain',), ('Bahamas, The',), ('Bosnia and Herzegovina',), ('Belarus',), ('Belize',), ('Bolivia',), ('Brazil',), ('Barbados',), ('Brunei Darussalam',), ('Bhutan',), ('Botswana',), ('Central African Republic',), ('Canada',), ('Central Europe and the Baltics',), ('Switzerland',), ('Chile',), ('China',), (\"Cote d'Ivoire\",), ('Cameroon',), ('Congo, Dem. Rep.',), ('Congo, Rep.',), ('Colombia',), ('Comoros',), ('Cabo Verde',), ('Costa Rica',), ('Caribbean small states',), ('Cuba',), ('Cyprus',), ('Czechia',), ('Germany',), ('Djibouti',), ('Dominica',), ('Denmark',), ('Dominican Republic',), ('Algeria',), ('East Asia & Pacific (excluding high income)',), ('Early-demographic dividend',), ('East Asia & Pacific',), ('Europe & Central Asia (excluding high income)',), ('Europe & Central Asia',), ('Ecuador',), ('Egypt, Arab Rep.',), ('Euro area',), ('Eritrea',), ('Spain',), ('Estonia',), ('Ethiopia',), ('European Union',), ('Fragile and conflict affected situations',), ('Finland',), ('Fiji',), ('France',), ('Micronesia, Fed. Sts.',), ('Gabon',), ('United Kingdom',), ('Georgia',), ('Ghana',), ('Guinea',), ('Gambia, The',), ('Guinea-Bissau',), ('Equatorial Guinea',), ('Greece',), ('Grenada',), ('Guatemala',), ('Guyana',), ('High income',), ('Honduras',), ('Heavily indebted poor countries (HIPC)',), ('Croatia',), ('Haiti',), ('Hungary',), ('IBRD only',), ('IDA & IBRD total',), ('IDA total',), ('IDA blend',), ('Indonesia',), ('IDA only',), ('India',), ('Ireland',), ('Iran, Islamic Rep.',), ('Iraq',), ('Iceland',), ('Israel',), ('Italy',), ('Jamaica',), ('Jordan',), ('Japan',), ('Kazakhstan',), ('Kenya',), ('Kyrgyz Republic',), ('Cambodia',), ('Kiribati',), ('St. Kitts and Nevis',), ('Korea, Rep.',), ('Kuwait',), ('Latin America & Caribbean (excluding high income)',), ('Lao PDR',), ('Lebanon',), ('Liberia',), ('Libya',), ('St. Lucia',), ('Latin America & Caribbean',), ('Least developed countries: UN classification',), ('Low income',), ('Liechtenstein',), ('Sri Lanka',), ('Lower middle income',), ('Low & middle income',), ('Lesotho',), ('Late-demographic dividend',), ('Lithuania',), ('Luxembourg',), ('Latvia',), ('Morocco',), ('Moldova',), ('Madagascar',), ('Maldives',), ('Middle East & North Africa',), ('Mexico',), ('Marshall Islands',), ('Middle income',), ('North Macedonia',), ('Mali',), ('Malta',), ('Myanmar',), ('Middle East & North Africa (excluding high income)',), ('Montenegro',), ('Mongolia',), ('Mozambique',), ('Mauritania',), ('Mauritius',), ('Malawi',), ('Malaysia',), ('North America',), ('Niger',), ('Nigeria',), ('Nicaragua',), ('Netherlands',), ('Norway',), ('Nepal',), ('Nauru',), ('New Zealand',), ('OECD members',), ('Oman',), ('Other small states',), ('Pakistan',), ('Panama',), ('Peru',), ('Philippines',), ('Palau',), ('Papua New Guinea',), ('Poland',), ('Pre-demographic dividend',), (\"Korea, Dem. People's Rep.\",), ('Portugal',), ('Paraguay',), ('Pacific island small states',), ('Post-demographic dividend',), ('Qatar',), ('Romania',), ('Russian Federation',), ('Rwanda',), ('South Asia',), ('Saudi Arabia',), ('Sudan',), ('Senegal',), ('Singapore',), ('Solomon Islands',), ('Sierra Leone',), ('El Salvador',), ('Somalia',), ('Serbia',), ('Sub-Saharan Africa (excluding high income)',), ('South Sudan',), ('Sub-Saharan Africa',), ('Small states',), ('Sao Tome and Principe',), ('Suriname',), ('Slovak Republic',), ('Slovenia',), ('Sweden',), ('Eswatini',), ('Seychelles',), ('Syrian Arab Republic',), ('Chad',), ('East Asia & Pacific (IDA & IBRD countries)',), ('Europe & Central Asia (IDA & IBRD countries)',), ('Togo',), ('Thailand',), ('Tajikistan',), ('Turkmenistan',), ('Latin America & the Caribbean (IDA & IBRD countries)',), ('Timor-Leste',), ('Middle East & North Africa (IDA & IBRD countries)',), ('Tonga',), ('South Asia (IDA & IBRD)',), ('Sub-Saharan Africa (IDA & IBRD countries)',), ('Trinidad and Tobago',), ('Tunisia',), ('Turkiye',), ('Tuvalu',), ('Tanzania',), ('Uganda',), ('Ukraine',), ('Upper middle income',), ('Uruguay',), ('United States',), ('Uzbekistan',), ('St. Vincent and the Grenadines',), ('Venezuela, RB',), ('Viet Nam',), ('Vanuatu',), ('World',), ('Samoa',), ('Yemen, Rep.',), ('South Africa',), ('Zambia',), ('Zimbabwe',)]\u001b[0m\n",
      "Answer:\u001b[32;1m\u001b[1;3mChina\u001b[0m\n",
      "\u001b[1m> Finished chain.\u001b[0m\n"
     ]
    }
   ],
   "source": [
    "\n",
    "qns1 = db_chain(\"which country has maximum co2 emission in the year of `2002`\")"
   ]
  },
  {
   "cell_type": "code",
   "execution_count": 12,
   "metadata": {},
   "outputs": [
    {
     "name": "stdout",
     "output_type": "stream",
     "text": [
      "\n",
      "\n",
      "\u001b[1m> Entering new SQLDatabaseChain chain...\u001b[0m\n",
      "SELECT ce.Country_name, ct.IncomeGroup FROM country_emissions AS ce JOIN country_table AS ct ON ce.Country_code = ct.Country_Code ORDER BY ce.`2002` DESC LIMIT 1;\n",
      "SQLQuery:\u001b[32;1m\u001b[1;3mSELECT ce.Country_name, ct.IncomeGroup FROM country_emissions AS ce JOIN country_table AS ct ON ce.Country_code = ct.Country_Code ORDER BY ce.`2002` DESC LIMIT 1\u001b[0m\n",
      "SQLResult: \u001b[33;1m\u001b[1;3m[('Qatar', 'High income')]\u001b[0m\n",
      "Answer:\u001b[32;1m\u001b[1;3mQatar, High income\u001b[0m\n",
      "\u001b[1m> Finished chain.\u001b[0m\n"
     ]
    },
    {
     "data": {
      "text/plain": [
       "{'query': 'SELECT ce.Country_name, ct.IncomeGroup FROM country_emissions AS ce JOIN country_table AS ct ON ce.Country_code = ct.Country_Code ORDER BY ce.`2002` DESC LIMIT 1;',\n",
       " 'result': 'Qatar, High income'}"
      ]
     },
     "execution_count": 12,
     "metadata": {},
     "output_type": "execute_result"
    }
   ],
   "source": [
    "db_chain(\"SELECT ce.Country_name, ct.IncomeGroup FROM country_emissions AS ce JOIN country_table AS ct ON ce.Country_code = ct.Country_Code ORDER BY ce.`2002` DESC LIMIT 1;\")\n"
   ]
  },
  {
   "cell_type": "code",
   "execution_count": 13,
   "metadata": {},
   "outputs": [
    {
     "name": "stdout",
     "output_type": "stream",
     "text": [
      "\n",
      "\n",
      "\u001b[1m> Entering new SQLDatabaseChain chain...\u001b[0m\n",
      "SELECT Country_name FROM country_emissions WHERE `2002` = (SELECT MAX(`2002`) as max_value FROM country_emissions);\n",
      "SQLQuery:\u001b[32;1m\u001b[1;3mSELECT Country_name FROM country_emissions WHERE `2002` = (SELECT MAX(`2002`) as max_value FROM country_emissions);\u001b[0m\n",
      "SQLResult: \u001b[33;1m\u001b[1;3m[('Qatar',)]\u001b[0m\n",
      "Answer:\u001b[32;1m\u001b[1;3mQatar\u001b[0m\n",
      "\u001b[1m> Finished chain.\u001b[0m\n"
     ]
    },
    {
     "data": {
      "text/plain": [
       "{'query': 'SELECT Country_name FROM country_emissions WHERE `2002` = (SELECT MAX(`2002`) as max_value FROM country_emissions);',\n",
       " 'result': 'Qatar'}"
      ]
     },
     "execution_count": 13,
     "metadata": {},
     "output_type": "execute_result"
    }
   ],
   "source": [
    "db_chain('SELECT Country_name FROM country_emissions WHERE `2002` = (SELECT MAX(`2002`) as max_value FROM country_emissions);')"
   ]
  },
  {
   "cell_type": "code",
   "execution_count": 60,
   "metadata": {},
   "outputs": [],
   "source": [
    "few_shots = [\n",
    "    {\n",
    "        'Question'  :'which country has maximum co2 emission in the year of 2002',\n",
    "        'SQLQuery'  :'SELECT Country_name FROM country_emissions WHERE `2002` = (SELECT MAX(`2002`) as max_value FROM country_emissions);',\n",
    "        'SQLResult' :'Result of the SQL query',\n",
    "        'Answer'    :'Qatar'\n",
    "    },\n",
    "    {\n",
    "        'Question'  :'Which country had the maximum CO2 emissions in the year 2002, and to which income group category do they belong?',\n",
    "        'SQLQuery'  :'SELECT ce.Country_name, ct.IncomeGroup FROM country_emissions AS ce JOIN country_table AS ct ON ce.Country_code = ct.Country_Code ORDER BY ce.`2002` DESC LIMIT 1;',\n",
    "        'SQLResult' :'Result of the SQL query',\n",
    "        'Answer'    :'Qatar, High income',\n",
    "    },\n",
    "    {\n",
    "        'Question'  :'how many countries emit co2 in the range of 4.25 to 20 in the year of 2010',\n",
    "        'SQLQuery'  :'SELECT COUNT(ce.Country_code) FROM country_emissions AS ce WHERE ce.`2010` BETWEEN 4.25 AND 20;',\n",
    "        'SQLResult' :'Result of the SQL query',\n",
    "        'Answer'    :'84',\n",
    "    },\n",
    "    {\n",
    "        'Question'  :'No of countries emit co2 in the range of 1.25 to 15 in the year of 2010 AND 1990',\n",
    "        'SQLQuery'  :'SELECT COUNT(country_name) AS country_count FROM country_emissions WHERE (`2010` BETWEEN 1.25 AND 15) AND (`1990` BETWEEN 1.25 AND 15);',\n",
    "        'SQLResult' :'Result of the SQL query',\n",
    "        'Answer'    :'119',\n",
    "    },\n",
    "    {\n",
    "        'Question'  : 'Identify the number of countries that exceeded 2 standard deviations in 2013',\n",
    "        'SQLQuery'  : 'SELECT COUNT(Country_name) FROM country_emissions JOIN (SELECT AVG(`1990`) + 2 * STDDEV(`1990`) AS upper_limit, AVG(`1990`) - 2 * STDDEV(`1990`) AS lower_limit FROM country_emissions) AS std ON country_emissions.`1990` < std.lower_limit OR country_emissions.`1990` > std.upper_limit;',\n",
    "        'SQLResult' : 'Result of the SQL query',\n",
    "        'Answer'    : '11', \n",
    "    },\n",
    "    {\n",
    "        'Question'  : 'Identify the countries that exceeded 2 standard deviations in 2013',\n",
    "        'SQLQuery'  : 'SELECT Country_name FROM country_emissions JOIN (SELECT AVG(`2013`) + 2 * STDDEV(`2013`) AS upper_limit_2013, AVG(`2013`) - 2 * STDDEV(`2013`) AS lower_limit_2013, AVG(`2015`) + 2 * STDDEV(`2015`) AS upper_limit_2015, AVG(`2015`) - 2 * STDDEV(`2015`) AS lower_limit_2015 FROM country_emissions) AS std ON (country_emissions.`2013` < std.lower_limit_2013 OR country_emissions.`2013` > std.upper_limit_2013) AND(country_emissions.`2015` < std.lower_limit_2015 OR country_emissions.`2015` > std.upper_limit_2015);',\n",
    "        'SQLResult' : 'Result of the SQL query',\n",
    "        'Answer'    : 'Australia, Bahrain, Brunei Darussalam, Canada, Estonia, Kazakhstan, Kuwait, Luxembourg, Oman, Qatar, Saudi Arabia, Trinidad and Tobago, United Arab Emirates, United States', \n",
    "    },\n",
    "    {\n",
    "        'Question'  : 'Identify the total countries that exceeded 2 standard deviations in 2013 and 2015',\n",
    "        'SQLQuery'  : 'SELECT COUNT(Country_name) FROM country_emissions JOIN (SELECT AVG(`2013`) + 2 * STDDEV(`2013`) AS upper_limit_2013, AVG(`2013`) - 2 * STDDEV(`2013`) AS lower_limit_2013, AVG(`2015`) + 2 * STDDEV(`2015`) AS upper_limit_2015, AVG(`2015`) - 2 * STDDEV(`2015`) AS lower_limit_2015 FROM country_emissions) AS std ON (country_emissions.`2013` < std.lower_limit_2013 OR country_emissions.`2013` > std.upper_limit_2013) AND(country_emissions.`2015` < std.lower_limit_2015 OR country_emissions.`2015` > std.upper_limit_2015);',\n",
    "        'SQLResult' : 'Result of the SQL query',\n",
    "        'Answer'    : '13', \n",
    "    }\n",
    "\n",
    "\n",
    "]"
   ]
  },
  {
   "cell_type": "markdown",
   "metadata": {},
   "source": [
    "\n",
    "### Creating Semantic Similarity Based example selector\n",
    "\n",
    "- create embedding on the few_shots\n",
    "- Store the embeddings in Chroma DB\n",
    "- Retrieve the the top most Semantically close example from the vector store"
   ]
  },
  {
   "cell_type": "code",
   "execution_count": 61,
   "metadata": {},
   "outputs": [],
   "source": [
    "from langchain.prompts import SemanticSimilarityExampleSelector\n",
    "from langchain.embeddings import HuggingFaceEmbeddings\n",
    "from langchain.vectorstores import Chroma"
   ]
  },
  {
   "cell_type": "code",
   "execution_count": 62,
   "metadata": {},
   "outputs": [],
   "source": [
    "embeddings = HuggingFaceEmbeddings(model_name='sentence-transformers/all-MiniLM-L6-v2')"
   ]
  },
  {
   "cell_type": "code",
   "execution_count": 63,
   "metadata": {},
   "outputs": [],
   "source": [
    "to_vectorize = [' '.join(sent.values()) for sent in few_shots]\n",
    "vectorstore  = Chroma.from_texts(to_vectorize,embeddings,metadatas=few_shots)"
   ]
  },
  {
   "cell_type": "code",
   "execution_count": 64,
   "metadata": {},
   "outputs": [],
   "source": [
    "example_selector = SemanticSimilarityExampleSelector(\n",
    "    vectorstore=vectorstore,\n",
    "    k=2)"
   ]
  },
  {
   "cell_type": "code",
   "execution_count": 65,
   "metadata": {},
   "outputs": [
    {
     "data": {
      "text/plain": [
       "[{'Answer': '119',\n",
       "  'Question': 'No of countries emit co2 in the range of 1.25 to 15 in the year of 2010 AND 1990',\n",
       "  'SQLQuery': 'SELECT COUNT(country_name) AS country_count FROM country_emissions WHERE (`2010` BETWEEN 1.25 AND 15) AND (`1990` BETWEEN 1.25 AND 15);',\n",
       "  'SQLResult': 'Result of the SQL query'},\n",
       " {'Answer': '119',\n",
       "  'Question': 'No of countries emit co2 in the range of 1.25 to 15 in the year of 2010 AND 1990',\n",
       "  'SQLQuery': 'SELECT COUNT(country_name) AS country_count FROM country_emissions WHERE (`2010` BETWEEN 1.25 AND 15) AND (`1990` BETWEEN 1.25 AND 15);',\n",
       "  'SQLResult': 'Result of the SQL query'}]"
      ]
     },
     "execution_count": 65,
     "metadata": {},
     "output_type": "execute_result"
    }
   ],
   "source": [
    "example_selector.select_examples({'Question':'find the number of countries that were underperforming in the years 1990,'})"
   ]
  },
  {
   "cell_type": "code",
   "execution_count": 66,
   "metadata": {},
   "outputs": [],
   "source": [
    "from langchain.chains.sql_database.prompt import _mysql_prompt,PROMPT_SUFFIX,MYSQL_PROMPT"
   ]
  },
  {
   "cell_type": "code",
   "execution_count": 67,
   "metadata": {},
   "outputs": [
    {
     "name": "stdout",
     "output_type": "stream",
     "text": [
      "You are a MySQL expert. Given an input question, first create a syntactically correct MySQL query to run, then look at the results of the query and return the answer to the input question.\n",
      "Unless the user specifies in the question a specific number of examples to obtain, query for at most {top_k} results using the LIMIT clause as per MySQL. You can order the results to return the most informative data in the database.\n",
      "Never query for all columns from a table. You must query only the columns that are needed to answer the question. Wrap each column name in backticks (`) to denote them as delimited identifiers.\n",
      "Pay attention to use only the column names you can see in the tables below. Be careful to not query for columns that do not exist. Also, pay attention to which column is in which table.\n",
      "Pay attention to use CURDATE() function to get the current date, if the question involves \"today\".\n",
      "\n",
      "Use the following format:\n",
      "\n",
      "Question: Question here\n",
      "SQLQuery: SQL Query to run\n",
      "SQLResult: Result of the SQLQuery\n",
      "Answer: Final answer here\n",
      "\n",
      "\n",
      "Only use the following tables:\n",
      "{table_info}\n",
      "\n",
      "Question: {input}\n"
     ]
    }
   ],
   "source": [
    "print(_mysql_prompt)\n",
    "print(PROMPT_SUFFIX)"
   ]
  },
  {
   "cell_type": "markdown",
   "metadata": {},
   "source": [
    "## Setting up PromptTemplete using input variables"
   ]
  },
  {
   "cell_type": "code",
   "execution_count": 68,
   "metadata": {},
   "outputs": [],
   "source": [
    "from langchain.prompts.prompt import PromptTemplate\n",
    "\n",
    "example_prompt = PromptTemplate(\n",
    "    input_variables =['Question','SQLQuery','SQLResult','Answer'],\n",
    "    template        ='\\nQuestion: {Question}\\nSQLQuery: {SQLQuery}\\nSQLResult: {SQLResult}\\nAnswer: {Answer}',\n",
    ")"
   ]
  },
  {
   "cell_type": "code",
   "execution_count": 69,
   "metadata": {},
   "outputs": [
    {
     "name": "stdout",
     "output_type": "stream",
     "text": [
      "\n",
      "Question: {Question}\n",
      "SQLQuery: {SQLQuery}\n",
      "SQLResult: {SQLResult}\n",
      "Answer: {Answer}\n"
     ]
    }
   ],
   "source": [
    "print(example_prompt.template)"
   ]
  },
  {
   "cell_type": "markdown",
   "metadata": {},
   "source": [
    "### Few short learning"
   ]
  },
  {
   "cell_type": "code",
   "execution_count": 70,
   "metadata": {},
   "outputs": [
    {
     "name": "stdout",
     "output_type": "stream",
     "text": [
      "input_variables=['input', 'table_info', 'top_k'] template='You are a MySQL expert. Given an input question, first create a syntactically correct MySQL query to run, then look at the results of the query and return the answer to the input question.\\nUnless the user specifies in the question a specific number of examples to obtain, query for at most {top_k} results using the LIMIT clause as per MySQL. You can order the results to return the most informative data in the database.\\nNever query for all columns from a table. You must query only the columns that are needed to answer the question. Wrap each column name in backticks (`) to denote them as delimited identifiers.\\nPay attention to use only the column names you can see in the tables below. Be careful to not query for columns that do not exist. Also, pay attention to which column is in which table.\\nPay attention to use CURDATE() function to get the current date, if the question involves \"today\".\\n\\nUse the following format:\\n\\nQuestion: Question here\\nSQLQuery: SQL Query to run\\nSQLResult: Result of the SQLQuery\\nAnswer: Final answer here\\n\\nOnly use the following tables:\\n{table_info}\\n\\nQuestion: {input}'\n"
     ]
    }
   ],
   "source": [
    "print(MYSQL_PROMPT)"
   ]
  },
  {
   "cell_type": "code",
   "execution_count": 71,
   "metadata": {},
   "outputs": [],
   "source": [
    "from langchain.prompts import FewShotPromptTemplate\n",
    "\n",
    "\n",
    "few_shot_prompt = FewShotPromptTemplate(\n",
    "                    example_selector= example_selector,\n",
    "                    example_prompt  = example_prompt,\n",
    "                    prefix          = _mysql_prompt,\n",
    "                    suffix          = PROMPT_SUFFIX,\n",
    "                    input_variables=['input', 'table_info', 'top_k'])"
   ]
  },
  {
   "cell_type": "code",
   "execution_count": 72,
   "metadata": {},
   "outputs": [],
   "source": [
    "new_chain = SQLDatabaseChain.from_llm(llm=llm,db=db,verbose=True,prompt=few_shot_prompt)"
   ]
  },
  {
   "cell_type": "code",
   "execution_count": 73,
   "metadata": {},
   "outputs": [
    {
     "name": "stdout",
     "output_type": "stream",
     "text": [
      "\n",
      "\n",
      "\u001b[1m> Entering new SQLDatabaseChain chain...\u001b[0m\n",
      "which country has maximum co2 emission in the year of 2002\n",
      "SQLQuery:\u001b[32;1m\u001b[1;3mSELECT Country_name FROM country_emissions AS ce JOIN country_table AS ct ON ce.Country_code = ct.Country_Code ORDER BY ce.`2002` DESC LIMIT 1;\u001b[0m\n",
      "SQLResult: \u001b[33;1m\u001b[1;3m[('Qatar',)]\u001b[0m\n",
      "Answer:\u001b[32;1m\u001b[1;3mQatar\u001b[0m\n",
      "\u001b[1m> Finished chain.\u001b[0m\n"
     ]
    },
    {
     "data": {
      "text/plain": [
       "{'query': 'which country has maximum co2 emission in the year of 2002',\n",
       " 'result': 'Qatar'}"
      ]
     },
     "execution_count": 73,
     "metadata": {},
     "output_type": "execute_result"
    }
   ],
   "source": [
    "new_chain('which country has maximum co2 emission in the year of 2002')"
   ]
  },
  {
   "cell_type": "code",
   "execution_count": 74,
   "metadata": {},
   "outputs": [
    {
     "name": "stdout",
     "output_type": "stream",
     "text": [
      "\n",
      "\n",
      "\u001b[1m> Entering new SQLDatabaseChain chain...\u001b[0m\n",
      "how many countries emit co2 in the range of 4.25 to 20 in the year of 2010 \n",
      "SQLQuery:\u001b[32;1m\u001b[1;3mSELECT COUNT(ce.Country_code) FROM country_emissions AS ce WHERE ce.`2010` BETWEEN 4.25 AND 20;\u001b[0m\n",
      "SQLResult: \u001b[33;1m\u001b[1;3m[(84,)]\u001b[0m\n",
      "Answer:\u001b[32;1m\u001b[1;3m84\u001b[0m\n",
      "\u001b[1m> Finished chain.\u001b[0m\n"
     ]
    },
    {
     "data": {
      "text/plain": [
       "{'query': 'how many countries emit co2 in the range of 4.25 to 20 in the year of 2010 ',\n",
       " 'result': '84'}"
      ]
     },
     "execution_count": 74,
     "metadata": {},
     "output_type": "execute_result"
    }
   ],
   "source": [
    "new_chain('how many countries emit co2 in the range of 4.25 to 20 in the year of 2010 ')"
   ]
  },
  {
   "cell_type": "code",
   "execution_count": 75,
   "metadata": {},
   "outputs": [
    {
     "name": "stdout",
     "output_type": "stream",
     "text": [
      "\n",
      "\n",
      "\u001b[1m> Entering new SQLDatabaseChain chain...\u001b[0m\n",
      "No of countries emit co2 in the range of 0.5 to 5 in the year of 1990 and 2015\n",
      "SQLQuery:\u001b[32;1m\u001b[1;3mSELECT COUNT(country_name) AS country_count FROM country_emissions WHERE (`2015` BETWEEN 0.5 AND 5) AND (`1990` BETWEEN 0.5 AND 5);\u001b[0m\n",
      "SQLResult: \u001b[33;1m\u001b[1;3m[(82,)]\u001b[0m\n",
      "Answer:\u001b[32;1m\u001b[1;3m82\u001b[0m\n",
      "\u001b[1m> Finished chain.\u001b[0m\n"
     ]
    },
    {
     "data": {
      "text/plain": [
       "'82'"
      ]
     },
     "execution_count": 75,
     "metadata": {},
     "output_type": "execute_result"
    }
   ],
   "source": [
    "new_chain.run('No of countries emit co2 in the range of 0.5 to 5 in the year of 1990 and 2015')"
   ]
  },
  {
   "cell_type": "code",
   "execution_count": 76,
   "metadata": {},
   "outputs": [
    {
     "name": "stdout",
     "output_type": "stream",
     "text": [
      "\n",
      "\n",
      "\u001b[1m> Entering new SQLDatabaseChain chain...\u001b[0m\n",
      "Identify the number of countries that exceeded 1 standard deviations in 2013\n",
      "SQLQuery:\u001b[32;1m\u001b[1;3mSELECT COUNT(Country_name) FROM country_emissions JOIN (SELECT AVG(`2013`) + STDDEV(`2013`) AS upper_limit_2013, AVG(`2013`) - STDDEV(`2013`) AS lower_limit_2013 FROM country_emissions) AS std ON (country_emissions.`2013` < std.lower_limit_2013 OR country_emissions.`2013` > std.upper_limit_2013);\u001b[0m\n",
      "SQLResult: \u001b[33;1m\u001b[1;3m[(27,)]\u001b[0m\n",
      "Answer:\u001b[32;1m\u001b[1;3m27\u001b[0m\n",
      "\u001b[1m> Finished chain.\u001b[0m\n"
     ]
    },
    {
     "data": {
      "text/plain": [
       "{'query': 'Identify the number of countries that exceeded 1 standard deviations in 2013',\n",
       " 'result': '27'}"
      ]
     },
     "execution_count": 76,
     "metadata": {},
     "output_type": "execute_result"
    }
   ],
   "source": [
    "new_chain('Identify the number of countries that exceeded 1 standard deviations in 2013')"
   ]
  },
  {
   "cell_type": "code",
   "execution_count": 77,
   "metadata": {},
   "outputs": [
    {
     "data": {
      "text/plain": [
       "[{'Question': 'which country has maximum co2 emission in the year of 2002',\n",
       "  'SQLQuery': 'SELECT Country_name FROM country_emissions WHERE `2002` = (SELECT MAX(`2002`) as max_value FROM country_emissions);',\n",
       "  'SQLResult': 'Result of the SQL query',\n",
       "  'Answer': 'Qatar'},\n",
       " {'Question': 'Which country had the maximum CO2 emissions in the year 2002, and to which income group category do they belong?',\n",
       "  'SQLQuery': 'SELECT ce.Country_name, ct.IncomeGroup FROM country_emissions AS ce JOIN country_table AS ct ON ce.Country_code = ct.Country_Code ORDER BY ce.`2002` DESC LIMIT 1;',\n",
       "  'SQLResult': 'Result of the SQL query',\n",
       "  'Answer': 'Qatar, High income'},\n",
       " {'Question': 'how many countries emit co2 in the range of 4.25 to 20 in the year of 2010',\n",
       "  'SQLQuery': 'SELECT COUNT(ce.Country_code) FROM country_emissions AS ce WHERE ce.`2010` BETWEEN 4.25 AND 20;',\n",
       "  'SQLResult': 'Result of the SQL query',\n",
       "  'Answer': '84'},\n",
       " {'Question': 'No of countries emit co2 in the range of 1.25 to 15 in the year of 2010 AND 1990',\n",
       "  'SQLQuery': 'SELECT COUNT(country_name) AS country_count FROM country_emissions WHERE (`2010` BETWEEN 1.25 AND 15) AND (`1990` BETWEEN 1.25 AND 15);',\n",
       "  'SQLResult': 'Result of the SQL query',\n",
       "  'Answer': '119'},\n",
       " {'Question': 'Identify the number of countries that exceeded 2 standard deviations in 2013',\n",
       "  'SQLQuery': 'SELECT COUNT(Country_name) FROM country_emissions JOIN (SELECT AVG(`1990`) + 2 * STDDEV(`1990`) AS upper_limit, AVG(`1990`) - 2 * STDDEV(`1990`) AS lower_limit FROM country_emissions) AS std ON country_emissions.`1990` < std.lower_limit OR country_emissions.`1990` > std.upper_limit;',\n",
       "  'SQLResult': 'Result of the SQL query',\n",
       "  'Answer': '11'},\n",
       " {'Question': 'Identify the countries that exceeded 2 standard deviations in 2013',\n",
       "  'SQLQuery': 'SELECT Country_name FROM country_emissions JOIN (SELECT AVG(`2013`) + 2 * STDDEV(`2013`) AS upper_limit_2013, AVG(`2013`) - 2 * STDDEV(`2013`) AS lower_limit_2013, AVG(`2015`) + 2 * STDDEV(`2015`) AS upper_limit_2015, AVG(`2015`) - 2 * STDDEV(`2015`) AS lower_limit_2015 FROM country_emissions) AS std ON (country_emissions.`2013` < std.lower_limit_2013 OR country_emissions.`2013` > std.upper_limit_2013) AND(country_emissions.`2015` < std.lower_limit_2015 OR country_emissions.`2015` > std.upper_limit_2015);',\n",
       "  'SQLResult': 'Result of the SQL query',\n",
       "  'Answer': 'Australia, Bahrain, Brunei Darussalam, Canada, Estonia, Kazakhstan, Kuwait, Luxembourg, Oman, Qatar, Saudi Arabia, Trinidad and Tobago, United Arab Emirates, United States'},\n",
       " {'Question': 'Identify the total countries that exceeded 2 standard deviations in 2013 and 2015',\n",
       "  'SQLQuery': 'SELECT COUNT(Country_name) FROM country_emissions JOIN (SELECT AVG(`2013`) + 2 * STDDEV(`2013`) AS upper_limit_2013, AVG(`2013`) - 2 * STDDEV(`2013`) AS lower_limit_2013, AVG(`2015`) + 2 * STDDEV(`2015`) AS upper_limit_2015, AVG(`2015`) - 2 * STDDEV(`2015`) AS lower_limit_2015 FROM country_emissions) AS std ON (country_emissions.`2013` < std.lower_limit_2013 OR country_emissions.`2013` > std.upper_limit_2013) AND(country_emissions.`2015` < std.lower_limit_2015 OR country_emissions.`2015` > std.upper_limit_2015);',\n",
       "  'SQLResult': 'Result of the SQL query',\n",
       "  'Answer': '13'}]"
      ]
     },
     "execution_count": 77,
     "metadata": {},
     "output_type": "execute_result"
    }
   ],
   "source": [
    "few_shots"
   ]
  },
  {
   "cell_type": "code",
   "execution_count": 79,
   "metadata": {},
   "outputs": [
    {
     "name": "stdout",
     "output_type": "stream",
     "text": [
      "\n",
      "\n",
      "\u001b[1m> Entering new SQLDatabaseChain chain...\u001b[0m\n",
      "In which incomegroup category do most of the highest emittig country belongs?\n",
      "SQLQuery:\u001b[32;1m\u001b[1;3mSELECT ct.IncomeGroup, COUNT(*) FROM country_emissions AS ce JOIN country_table AS ct ON ce.Country_code = ct.Country_Code GROUP BY ct.IncomeGroup ORDER BY COUNT(*) DESC LIMIT 1;\u001b[0m\n",
      "SQLResult: \u001b[33;1m\u001b[1;3m[('High income', 58)]\u001b[0m\n",
      "Answer:\u001b[32;1m\u001b[1;3mHigh income\u001b[0m\n",
      "\u001b[1m> Finished chain.\u001b[0m\n"
     ]
    },
    {
     "data": {
      "text/plain": [
       "{'query': 'In which incomegroup category do most of the highest emittig country belongs?',\n",
       " 'result': 'High income'}"
      ]
     },
     "execution_count": 79,
     "metadata": {},
     "output_type": "execute_result"
    }
   ],
   "source": [
    "new_chain('In which incomegroup category do most of the highest emittig country belongs?')"
   ]
  },
  {
   "cell_type": "code",
   "execution_count": 80,
   "metadata": {},
   "outputs": [
    {
     "name": "stdout",
     "output_type": "stream",
     "text": [
      "\n",
      "\n",
      "\u001b[1m> Entering new SQLDatabaseChain chain...\u001b[0m\n",
      "In which incomegroup category do most of the lowest emittig country belongs?\n",
      "SQLQuery:\u001b[32;1m\u001b[1;3mSELECT IncomeGroup FROM country_emissions AS ce JOIN country_table AS ct ON ce.Country_code = ct.Country_Code GROUP BY IncomeGroup ORDER BY AVG(ce.`2020`) LIMIT 1;\u001b[0m\n",
      "SQLResult: \u001b[33;1m\u001b[1;3m[('Low income',)]\u001b[0m\n",
      "Answer:\u001b[32;1m\u001b[1;3mLow income\u001b[0m\n",
      "\u001b[1m> Finished chain.\u001b[0m\n"
     ]
    },
    {
     "data": {
      "text/plain": [
       "{'query': 'In which incomegroup category do most of the lowest emittig country belongs?',\n",
       " 'result': 'Low income'}"
      ]
     },
     "execution_count": 80,
     "metadata": {},
     "output_type": "execute_result"
    }
   ],
   "source": [
    "new_chain('In which incomegroup category do most of the lowest emittig country belongs?')"
   ]
  },
  {
   "cell_type": "code",
   "execution_count": null,
   "metadata": {},
   "outputs": [],
   "source": [
    "new_chain('which incomegroup category is belongs to who has ')"
   ]
  }
 ],
 "metadata": {
  "kernelspec": {
   "display_name": "nlp_env",
   "language": "python",
   "name": "python3"
  },
  "language_info": {
   "codemirror_mode": {
    "name": "ipython",
    "version": 3
   },
   "file_extension": ".py",
   "mimetype": "text/x-python",
   "name": "python",
   "nbconvert_exporter": "python",
   "pygments_lexer": "ipython3",
   "version": "3.9.0"
  }
 },
 "nbformat": 4,
 "nbformat_minor": 2
}
